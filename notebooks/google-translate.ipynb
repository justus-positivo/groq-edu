{
 "cells": [
  {
   "cell_type": "code",
   "execution_count": 2,
   "metadata": {},
   "outputs": [
    {
     "name": "stdout",
     "output_type": "stream",
     "text": [
      "Requirement already satisfied: googletrans in ./.venv/lib/python3.10/site-packages (4.0.0rc1)\n",
      "Requirement already satisfied: httpx==0.13.3 in ./.venv/lib/python3.10/site-packages (from googletrans) (0.13.3)\n",
      "Requirement already satisfied: certifi in ./.venv/lib/python3.10/site-packages (from httpx==0.13.3->googletrans) (2023.11.17)\n",
      "Requirement already satisfied: hstspreload in ./.venv/lib/python3.10/site-packages (from httpx==0.13.3->googletrans) (2024.4.1)\n",
      "Requirement already satisfied: sniffio in ./.venv/lib/python3.10/site-packages (from httpx==0.13.3->googletrans) (1.3.1)\n",
      "Requirement already satisfied: chardet==3.* in ./.venv/lib/python3.10/site-packages (from httpx==0.13.3->googletrans) (3.0.4)\n",
      "Requirement already satisfied: idna==2.* in ./.venv/lib/python3.10/site-packages (from httpx==0.13.3->googletrans) (2.10)\n",
      "Requirement already satisfied: rfc3986<2,>=1.3 in ./.venv/lib/python3.10/site-packages (from httpx==0.13.3->googletrans) (1.5.0)\n",
      "Requirement already satisfied: httpcore==0.9.* in ./.venv/lib/python3.10/site-packages (from httpx==0.13.3->googletrans) (0.9.1)\n",
      "Requirement already satisfied: h11<0.10,>=0.8 in ./.venv/lib/python3.10/site-packages (from httpcore==0.9.*->httpx==0.13.3->googletrans) (0.9.0)\n",
      "Requirement already satisfied: h2==3.* in ./.venv/lib/python3.10/site-packages (from httpcore==0.9.*->httpx==0.13.3->googletrans) (3.2.0)\n",
      "Requirement already satisfied: hyperframe<6,>=5.2.0 in ./.venv/lib/python3.10/site-packages (from h2==3.*->httpcore==0.9.*->httpx==0.13.3->googletrans) (5.2.0)\n",
      "Requirement already satisfied: hpack<4,>=3.0 in ./.venv/lib/python3.10/site-packages (from h2==3.*->httpcore==0.9.*->httpx==0.13.3->googletrans) (3.0.0)\n"
     ]
    }
   ],
   "source": [
    "!pip install googletrans"
   ]
  },
  {
   "cell_type": "code",
   "execution_count": 4,
   "metadata": {},
   "outputs": [
    {
     "name": "stdout",
     "output_type": "stream",
     "text": [
      "Original (Portuguese BR): veritas lux mea\n",
      "Translated (English): The truth is my light\n"
     ]
    }
   ],
   "source": [
    "from googletrans import Translator\n",
    "\n",
    "def translate_text(text, src='pt', dest='en'):\n",
    "    translator = Translator()\n",
    "    translation = translator.translate(text, dest=dest)\n",
    "    return translation.text\n",
    "\n",
    "# Example usage\n",
    "portuguese_text = \"안녕하세요.\"\n",
    "translated_text = translate_text(portuguese_text)\n",
    "print(f\"Original (Portuguese BR): {portuguese_text}\")\n",
    "print(f\"Translated (English): {translated_text}\")\n"
   ]
  }
 ],
 "metadata": {
  "kernelspec": {
   "display_name": ".venv",
   "language": "python",
   "name": "python3"
  },
  "language_info": {
   "codemirror_mode": {
    "name": "ipython",
    "version": 3
   },
   "file_extension": ".py",
   "mimetype": "text/x-python",
   "name": "python",
   "nbconvert_exporter": "python",
   "pygments_lexer": "ipython3",
   "version": "3.10.13"
  }
 },
 "nbformat": 4,
 "nbformat_minor": 2
}
